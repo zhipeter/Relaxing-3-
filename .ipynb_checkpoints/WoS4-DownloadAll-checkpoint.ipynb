{
 "cells": [
  {
   "cell_type": "code",
   "execution_count": 1,
   "metadata": {},
   "outputs": [
    {
     "name": "stdout",
     "output_type": "stream",
     "text": [
      "sid:  8Cjo7y9EehKhQy3iWk4\n"
     ]
    }
   ],
   "source": [
    "import re\n",
    "# from threading import Thread\n",
    "from multiprocessing import Process\n",
    "from multiprocessing import Manager\n",
    "import requests\n",
    "import time\n",
    "import xlrd\n",
    "from bs4 import BeautifulSoup\n",
    "from lxml import etree\n",
    "from urllib.parse import quote\n",
    "from urllib.parse import unquote\n",
    "\n",
    "Year=\"2015-2020\"\n",
    "root = 'http://apps.webofknowledge.com'\n",
    "s = requests.get(root)\n",
    "sid=re.findall(r'SID=\\w+&', s.url)[0].replace('SID=', '').replace('&', '')\n",
    "print('sid: ',sid)"
   ]
  },
  {
   "cell_type": "code",
   "execution_count": 2,
   "metadata": {},
   "outputs": [
    {
     "name": "stdout",
     "output_type": "stream",
     "text": [
      "2015-2020 文章总数： 308\n"
     ]
    }
   ],
   "source": [
    "headers = {\n",
    "            'Origin': 'https://apps.webofknowledge.com',\n",
    "            'Referer': 'https://apps.webofknowledge.com/WOS_GeneralSearch_input.do?product=WOS&search_mode=GeneralSearch',\n",
    "            'User-Agent': \"Mozilla/5.0 (Windows NT 10.0; Win64; x64) AppleWebKit/537.36 (KHTML, like Gecko) Chrome/77.0.3865.90 Safari/537.36\",\n",
    "            'Content-Type': 'application/x-www-form-urlencoded'\n",
    "        }\n",
    "fd = {\n",
    "            'fieldCount': 2,\n",
    "            'action': 'search',\n",
    "            'product': 'WOS',\n",
    "            'search_mode': 'GeneralSearch',\n",
    "            'SID': sid,\n",
    "            'max_field_count': 25,\n",
    "            'formUpdated': 'true',\n",
    "            'value(input1)': 'FRONTIERS OF STRUCTURAL AND CIVIL ENGINEERING',\n",
    "            'value(select1)': 'SO',\n",
    "            'value(bool_1_2)': 'AND',\n",
    "            'value(input2)': Year,\n",
    "            'value(select2)': 'PY',  \n",
    "            'value(hidInput1)': '',\n",
    "            'value(hidInput2)': '',\n",
    "            'limitStatus': 'collapsed',\n",
    "            'ss_lemmatization': 'On',\n",
    "            'ss_spellchecking': 'Suggest',\n",
    "            'SinceLastVisit_UTC': '',\n",
    "            'SinceLastVisit_DATE': '',\n",
    "            'period': 'Range Selection',\n",
    "            'range': 'ALL',\n",
    "            'startYear': '1975',\n",
    "            'endYear': '2020',\n",
    "            'update_back2search_link_param': 'yes',\n",
    "            'ssStatus': 'display:none',\n",
    "            'ss_showsuggestions': 'ON',\n",
    "            'ss_query_language': 'auto',\n",
    "            'ss_numDefaultGeneralSearchFields': 1,\n",
    "            'rs_sort_by': 'PY.D;LD.D;SO.A;VL.D;PG.A;AU.A'\n",
    "        }\n",
    "\n",
    "root_url = 'https://apps.webofknowledge.com/WOS_GeneralSearch.do'\n",
    "s = requests.Session()\n",
    "r = s.post(root_url, data=fd, headers=headers)\n",
    "r.encoding = r.apparent_encoding\n",
    "tree = etree.HTML(r.text)\n",
    "soup = BeautifulSoup(r.text, 'lxml')\n",
    "\n",
    "paper_num = int(soup.find('span', attrs={'id': 'footer_formatted_count'}).get_text().replace(',', ''))\n",
    "print(Year+' 文章总数：', paper_num)"
   ]
  },
  {
   "cell_type": "code",
   "execution_count": 4,
   "metadata": {},
   "outputs": [
    {
     "name": "stdout",
     "output_type": "stream",
     "text": [
      "http://ets.webofknowledge.com/ETS/ets.do?mark_from=1&product=UA&colName=WOS&displayUsageInfo=true&parentQid=1&rurl=https%253A%252F%252Fapps.webofknowledge.com%252Fsummary.do%253Fproduct%253DWOS%2526search_mode%253DGeneralSearch%2526qid%253D1%2526SID%253D8Cjo7y9EehKhQy3iWk4&mark_to=308&filters=HIGHLY_CITED%20HOT_PAPER%20OPEN_ACCESS%20PMID%20USAGEIND%20AUTHORSIDENTIFIERS%20ACCESSION_NUM%20FUNDING%20SUBJECT_CATEGORY%20JCR_CATEGORY%20LANG%20IDS%20PAGEC%20SABBR%20CITREFC%20ISSN%20PUBINFO%20KEYWORDS%20CITTIMES%20ADDRS%20CONFERENCE_SPONSORS%20DOCTYPE%20ABSTRACT%20CONFERENCE_INFO%20SOURCE%20TITLE%20AUTHORS%20%20&qid=2&SID=8Cjo7y9EehKhQy3iWk4&totalMarked=308&action=saveToFile&sortBy=PY.D;LD.D;SO.A;VL.D;PG.A;AU.A&logEventQid=1&fileOpt=tabWinUTF8&UserIDForSaveToRID=null\n"
     ]
    }
   ],
   "source": [
    "rurl='https://apps.webofknowledge.com/summary.do?product=WOS&search_mode=GeneralSearch&qid=1'+'&SID='+sid\n",
    "\n",
    "headers3 = {\n",
    "    'Host':'apps.webofknowledge.com',\n",
    "    'Origin': 'http://apps.webofknowledge.com',\n",
    "    'Referer': 'http://apps.webofknowledge.com/InboundService.do?action=search&exclude=',\n",
    "    'User-Agent': \"Mozilla/5.0 (Windows NT 10.0; Win64; x64) AppleWebKit/537.36 (KHTML, like Gecko) Chrome/77.0.3865.90 Safari/537.36\",\n",
    "    'Content-Type': 'application/x-www-form-urlencoded'\n",
    "        }\n",
    "fd3 = {\n",
    "    'viewType':'summary',\n",
    "    'product':'WOS',\n",
    "    'rurl':quote(rurl, 'utf-8'),\n",
    "    'mark_id':'WOS',\n",
    "    'colName':'WOS',\n",
    "    'search_mode':'GeneralSearch',\n",
    "    'locale':'en_US',\n",
    "    'view_name':'WOS-summary',\n",
    "    'sortBy':'PY.D;LD.D;SO.A;VL.D;PG.A;AU.A',\n",
    "    'mode':'OpenOutputService',\n",
    "    'qid':1,\n",
    "    'SID':sid,\n",
    "    'format':'saveToFile',\n",
    "    'filters':'HIGHLY_CITED HOT_PAPER OPEN_ACCESS PMID USAGEIND AUTHORSIDENTIFIERS ACCESSION_NUM FUNDING SUBJECT_CATEGORY JCR_CATEGORY LANG IDS PAGEC SABBR CITREFC ISSN PUBINFO KEYWORDS CITTIMES ADDRS CONFERENCE_SPONSORS DOCTYPE ABSTRACT CONFERENCE_INFO SOURCE TITLE AUTHORS',\n",
    "    'mark_to':paper_num,\n",
    "    'mark_from':1,\n",
    "    'queryNatural':'<b>PUBLICATION NAME:</b> (frontiers of structural and civil engineering)',\n",
    "    'count_new_items_marked':0,\n",
    "    'use_two_ets':'false',\n",
    "    'IncitesEntitled':'yes',\n",
    "    'value(record_select_type)':'range',\n",
    "    'markFrom':1,\n",
    "    'markTo':paper_num,\n",
    "    'fields_selection':'HIGHLY_CITED HOT_PAPER OPEN_ACCESS PMID USAGEIND AUTHORSIDENTIFIERS ACCESSION_NUM FUNDING SUBJECT_CATEGORY JCR_CATEGORY LANG IDS PAGEC SABBR CITREFC ISSN PUBINFO KEYWORDS CITTIMES ADDRS CONFERENCE_SPONSORS DOCTYPE ABSTRACT CONFERENCE_INFO SOURCE TITLE AUTHORS',\n",
    "    'save_options':'tabWinUTF8',\n",
    "        }\n",
    "\n",
    "s = requests.Session()\n",
    "url='http://apps.webofknowledge.com/OutboundService.do?action=go&&'\n",
    "r5 = s.post(url, data=fd3, headers=headers3,allow_redirects=False)\n",
    "Location_url=r5.headers['Location']\n",
    "filters=re.split(r'(&filters=)(.*)(&qid=)', Location_url)\n",
    "filters[2]=quote(filters[2]+'  ')\n",
    "Download_url=''.join(filters)\n",
    "print(Download_url)"
   ]
  },
  {
   "cell_type": "code",
   "execution_count": 5,
   "metadata": {},
   "outputs": [],
   "source": [
    "headers4 = {\n",
    "    'Host':'ets.webofknowledge.com',\n",
    "    'User-Agent': \"Mozilla/5.0 (Windows NT 10.0; Win64; x64) AppleWebKit/537.36 (KHTML, like Gecko) Chrome/77.0.3865.90 Safari/537.36\",\n",
    "        }\n",
    "txt=requests.get(Download_url,3,headers=headers4)\n",
    "with open(Year+'Articles.csv', 'wb') as f:\n",
    "    f.write(txt.content)"
   ]
  },
  {
   "cell_type": "code",
   "execution_count": null,
   "metadata": {},
   "outputs": [],
   "source": [
    " "
   ]
  }
 ],
 "metadata": {
  "kernelspec": {
   "display_name": "Python [default]",
   "language": "python",
   "name": "python3"
  },
  "language_info": {
   "codemirror_mode": {
    "name": "ipython",
    "version": 3
   },
   "file_extension": ".py",
   "mimetype": "text/x-python",
   "name": "python",
   "nbconvert_exporter": "python",
   "pygments_lexer": "ipython3",
   "version": "3.5.4"
  }
 },
 "nbformat": 4,
 "nbformat_minor": 4
}
