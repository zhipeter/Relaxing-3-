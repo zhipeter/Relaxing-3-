{
 "cells": [
  {
   "cell_type": "code",
   "execution_count": 1,
   "metadata": {},
   "outputs": [],
   "source": [
    "import pandas as pd\n",
    "import numpy as np\n",
    "import re\n",
    "# import squarify\n",
    "# import matplotlib\n",
    "# import matplotlib.pyplot as plt\n",
    "# %matplotlib inline\n",
    "# %config InlineBackend.figure_format ='svg'"
   ]
  },
  {
   "cell_type": "code",
   "execution_count": 2,
   "metadata": {},
   "outputs": [
    {
     "name": "stdout",
     "output_type": "stream",
     "text": [
      "文献共有： 307\n"
     ]
    }
   ],
   "source": [
    "# 读取2015-2020CitationArticles文件\n",
    "data = pd.read_csv('2015-2020Articles.csv', '\\t', index_col=False)\n",
    "print('文献共有：', data.shape[0])"
   ]
  },
  {
   "cell_type": "code",
   "execution_count": 12,
   "metadata": {},
   "outputs": [],
   "source": [
    "# 统计国家或地区\n",
    "CountryNum=[]\n",
    "CountryNum2=[]\n",
    "CountryList=[]\n",
    "for stri in data['C1']:\n",
    "    if stri.count('[')==1:\n",
    "        c1=stri.split(',')[-1].strip()\n",
    "        if c1[-3:]=='USA':\n",
    "            c1='USA'\n",
    "        CountryNum.append(1)\n",
    "        CountryNum2.append(1)\n",
    "        CountryList.append(c1+';')\n",
    "    else:\n",
    "        ii=0\n",
    "        countries={}\n",
    "        Count=''\n",
    "        for i in stri.split('; ['):\n",
    "            ii+=1\n",
    "            c1=i.split(',')[-1].strip()\n",
    "            if c1[-3:]=='USA':\n",
    "                c1='USA'\n",
    "            countries[c1]=countries.get(c1, 0) + 1\n",
    "        iii=0\n",
    "        for key in countries.keys():\n",
    "            iii+=1\n",
    "            Count=Count+str(key)+';'\n",
    "        CountryNum.append(ii)\n",
    "        CountryNum2.append(iii)\n",
    "        CountryList.append(Count)\n",
    "\n",
    "s = pd.Series(CountryList,index=CountryNum2)\n",
    "s.to_csv(\"Countries.csv\",sep=\"\\t\", header=False)"
   ]
  },
  {
   "cell_type": "code",
   "execution_count": 5,
   "metadata": {},
   "outputs": [
    {
     "data": {
      "text/plain": [
       "307"
      ]
     },
     "execution_count": 5,
     "metadata": {},
     "output_type": "execute_result"
    }
   ],
   "source": []
  },
  {
   "cell_type": "code",
   "execution_count": null,
   "metadata": {},
   "outputs": [],
   "source": []
  }
 ],
 "metadata": {
  "kernelspec": {
   "display_name": "Python [default]",
   "language": "python",
   "name": "python3"
  },
  "language_info": {
   "codemirror_mode": {
    "name": "ipython",
    "version": 3
   },
   "file_extension": ".py",
   "mimetype": "text/x-python",
   "name": "python",
   "nbconvert_exporter": "python",
   "pygments_lexer": "ipython3",
   "version": "3.5.4"
  }
 },
 "nbformat": 4,
 "nbformat_minor": 4
}
