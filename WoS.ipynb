{
 "cells": [
  {
   "cell_type": "code",
   "execution_count": 2,
   "metadata": {},
   "outputs": [],
   "source": [
    "import re\n",
    "# from threading import Thread\n",
    "from multiprocessing import Process\n",
    "from multiprocessing import Manager\n",
    "import requests\n",
    "import time\n",
    "import xlrd\n",
    "from bs4 import BeautifulSoup\n",
    "from lxml import etree\n",
    "from urllib.parse import quote"
   ]
  },
  {
   "cell_type": "code",
   "execution_count": 3,
   "metadata": {},
   "outputs": [],
   "source": [
    "root = 'http://www.webofknowledge.com/'\n",
    "s = requests.get(root)\n",
    "sid = re.findall(r'SID=\\w+&', s.url)[0].replace('SID=', '').replace('&', '')"
   ]
  },
  {
   "cell_type": "code",
   "execution_count": 4,
   "metadata": {},
   "outputs": [],
   "source": [
    "hearders = {\n",
    "            'Origin': 'https://apps.webofknowledge.com',\n",
    "            'Referer': 'https://apps.webofknowledge.com/WOS_GeneralSearch_input.do?product=WOS&search_mode=GeneralSearch',\n",
    "            'User-Agent': \"Mozilla/5.0 (Windows NT 10.0; Win64; x64) AppleWebKit/537.36 (KHTML, like Gecko) Chrome/77.0.3865.90 Safari/537.36\",\n",
    "            'Content-Type': 'application/x-www-form-urlencoded'\n",
    "        }"
   ]
  },
  {
   "cell_type": "code",
   "execution_count": 5,
   "metadata": {},
   "outputs": [],
   "source": [
    "def from_data(sid, SO_name):\n",
    "    fd = {\n",
    "            'fieldCount': 3,\n",
    "            'action': 'search',\n",
    "            'product': 'WOS',\n",
    "            'search_mode': 'GeneralSearch',\n",
    "            'SID': sid,\n",
    "            'max_field_count': 25,\n",
    "            'formUpdated': 'true',\n",
    "            'value(input1)': SO_name,\n",
    "            'value(select1)': 'SO',\n",
    "            'value(bool_1_2)': 'AND',\n",
    "            'value(input2)': 'Article### Review',\n",
    "            'value(select2)': 'DT',\n",
    "            'value(bool_2_3)': 'AND',\n",
    "            'value(input3)': '2017-2018',\n",
    "            'value(select3)': 'PY',  \n",
    "            'value(hidInput1)': '',\n",
    "            'value(hidInput2)': '',\n",
    "            'limitStatus': 'collapsed',\n",
    "            'ss_lemmatization': 'On',\n",
    "            'ss_spellchecking': 'Suggest',\n",
    "            'SinceLastVisit_UTC': '',\n",
    "            'SinceLastVisit_DATE': '',\n",
    "            'period': 'Range Selection',\n",
    "            'range': 'ALL',\n",
    "            'startYear': '1975',\n",
    "            'endYear': '2019',\n",
    "            'update_back2search_link_param': 'yes',\n",
    "            'ssStatus': 'display:none',\n",
    "            'ss_showsuggestions': 'ON',\n",
    "            'ss_query_language': 'auto',\n",
    "            'ss_numDefaultGeneralSearchFields': 1,\n",
    "            'rs_sort_by': 'PY.D;LD.D;SO.A;VL.D;PG.A;AU.A'\n",
    "        }\n",
    "    return fd"
   ]
  },
  {
   "cell_type": "code",
   "execution_count": 6,
   "metadata": {},
   "outputs": [],
   "source": [
    "root_url = 'https://apps.webofknowledge.com/WOS_GeneralSearch.do'"
   ]
  },
  {
   "cell_type": "code",
   "execution_count": 7,
   "metadata": {},
   "outputs": [],
   "source": [
    "SO_name=\"FRONTIERS OF STRUCTURAL AND CIVIL ENGINEERING\""
   ]
  },
  {
   "cell_type": "code",
   "execution_count": 8,
   "metadata": {},
   "outputs": [],
   "source": [
    "s = requests.Session()\n",
    "r = s.post(root_url, data=from_data(sid, SO_name), headers=hearders)\n",
    "r.encoding = r.apparent_encoding\n",
    "tree = etree.HTML(r.text)\n",
    "soup = BeautifulSoup(r.text, 'lxml')"
   ]
  },
  {
   "cell_type": "code",
   "execution_count": 79,
   "metadata": {},
   "outputs": [
    {
     "name": "stdout",
     "output_type": "stream",
     "text": [
      "\n",
      "Non linear modeling of three-dimensional reinforced and fiber concrete structures\n",
      "\n",
      "Effect of embedment length of untreated natural fibres on the bond behaviour in cement mortar\n",
      "\n",
      "Three-scale stochastic homogenization of elastic recycled aggregate concrete based on nano-indentation digital images\n",
      "\n",
      "Jack up reliability analysis: An overview\n",
      "\n",
      "Temperature segregation and its impact on the quality and performance of asphalt pavements\n",
      "\n",
      "Nonlinear analysis and reliability of metallic truss structures\n",
      "\n",
      "A new fracture criterion for peridynamic and dual-horizon peridynamics\n",
      "\n",
      "Experimental and numerical analysis of beam to column joints in steel structures\n",
      "\n",
      "The defect-length effect in corrosion detection with magnetic method for bridge cables\n",
      "\n",
      "The effect of micro-structural uncertainties of recycled aggregate concrete on its global stochastic properties via finite pixel-element Monte Carlo simulation\n",
      "\n"
     ]
    }
   ],
   "source": [
    "k=''\n",
    "for i in tree.xpath(\"//div[@class='search-results-content']/div/div/a//text()\"):\n",
    "    k+=i\n",
    "print(k)"
   ]
  },
  {
   "cell_type": "code",
   "execution_count": 9,
   "metadata": {},
   "outputs": [
    {
     "name": "stdout",
     "output_type": "stream",
     "text": [
      "100\n"
     ]
    }
   ],
   "source": [
    "paper_num = int(soup.find('span', attrs={'id': 'footer_formatted_count'}).get_text().replace(',', ''))\n",
    "print(paper_num)"
   ]
  },
  {
   "cell_type": "code",
   "execution_count": 10,
   "metadata": {},
   "outputs": [
    {
     "name": "stdout",
     "output_type": "stream",
     "text": [
      "https://apps.webofknowledge.com/CitationReport.do?product=WOS&search_mode=CitationReport&SID=5CEtCHrcyrUirKesVea&page=1&cr_pqid=1&viewType=summary&colName=WOS\n"
     ]
    }
   ],
   "source": [
    "url=soup.find('a', class_='snowplow-citation-report citation-report-summary-link')['href']\n",
    "wos_url='https://apps.webofknowledge.com'\n",
    "CR_url=wos_url+url\n",
    "print(CR_url)\n",
    "cr_r = requests.get(CR_url, 3)\n",
    "cr_r.encoding = cr_r.apparent_encoding\n",
    "tree2 = etree.HTML(cr_r.text)\n",
    "soup2 = BeautifulSoup(cr_r.text, 'lxml')"
   ]
  },
  {
   "cell_type": "code",
   "execution_count": 11,
   "metadata": {},
   "outputs": [
    {
     "name": "stdout",
     "output_type": "stream",
     "text": [
      "100 6 1.85 185 181 171 169\n"
     ]
    }
   ],
   "source": [
    "table=soup2.find_all('td', class_='quarter-width')\n",
    "Total_Publications=table[0].find('em', attrs={'class': 'commafy last'}).get_text().replace(',', '')\n",
    "h_index = table[1].find('em', attrs={'id': 'H_INDEX'}).get_text().replace(',', '')\n",
    "Average_citations_per_item=table[1].find('em', attrs={'class': 'minor commafy last'}).get_text().replace(',', '')\n",
    "Sum_of_Times_Cited=table[2].find('em', attrs={'class': 'commafy'}).get_text().replace(',', '')\n",
    "without_self_citations=table[2].find('em', attrs={'class': 'minor commafy last'}).get_text().replace(',', '')\n",
    "Citing_articles=table[3].find('em', attrs={'class': 'commafy'}).get_text().replace(',', '')\n",
    "without_self_citations2=table[3].find('em', attrs={'class': 'minor commafy last'}).get_text().replace(',', '')\n",
    "\n",
    "print(Total_Publications, h_index, Average_citations_per_item, Sum_of_Times_Cited, without_self_citations, Citing_articles, without_self_citations2)"
   ]
  },
  {
   "cell_type": "code",
   "execution_count": 12,
   "metadata": {},
   "outputs": [
    {
     "name": "stdout",
     "output_type": "stream",
     "text": [
      "['2016', '2017', '2018', '2019', '2020'] \n",
      " ['0', '12', '55', '118', '0', '185', '61.67']\n"
     ]
    }
   ],
   "source": [
    "CitReportHead=soup2.find('div', class_='CitReportTotalRow1')\n",
    "CitReportTable=soup2.find('div', class_='CitReportTotalRow2')\n",
    "CitYear=[]\n",
    "CitYearValue=[]\n",
    "for i in CitReportHead.find_all('div', class_='tcPerYear'):\n",
    "    CitYear.append(i.get_text().strip())\n",
    "for i in CitReportTable.find_all('div', class_='totalRow'):\n",
    "    CitYearValue.append(i.get_text().strip())\n",
    "print(CitYear, '\\n',CitYearValue)"
   ]
  },
  {
   "cell_type": "code",
   "execution_count": 13,
   "metadata": {},
   "outputs": [
    {
     "name": "stdout",
     "output_type": "stream",
     "text": [
      "2\n",
      "https://apps.webofknowledge.com/TotalCitingArticles.do?product=WOS&search_mode=TotalCitingArticles&qid=2&action=totalCA&SID=5CEtCHrcyrUirKesVea&viewType=summary&betterCount=171&nextRelayAction=GoToRA\n"
     ]
    }
   ],
   "source": [
    "Citing_articles_href=soup2.find('a', class_='margin-left-20 snowplow-cited-rep-analyze-results-citing-articles')['href']\n",
    "wos_url='https://apps.webofknowledge.com'\n",
    "Citing_articles_href=wos_url+Citing_articles_href\n",
    "qid = re.findall(r'qid=\\d+&', Citing_articles_href)[0].replace('qid=', '').replace('&', '')\n",
    "qid=int(qid)\n",
    "print(qid)\n",
    "print(Citing_articles_href)\n",
    "r3 = requests.get(Citing_articles_href, 3)\n",
    "r3.encoding = r3.apparent_encoding\n",
    "tree3 = etree.HTML(r3.text)\n",
    "soup3 = BeautifulSoup(r3.text, 'lxml')"
   ]
  },
  {
   "cell_type": "code",
   "execution_count": 14,
   "metadata": {},
   "outputs": [],
   "source": [
    "headers2 = {\n",
    "    'host':'apps.webofknowledge.com',\n",
    "    'Origin': 'https://wcs.webofknowledge.com',\n",
    "    'Referer': 'https://wcs.webofknowledge.com/RA/analyze.do?product=WOS&SID='+sid+'&field=PY_PublicationYear_PublicationYear_en&yearSort=true',\n",
    "    'User-Agent': \"Mozilla/5.0 (Windows NT 10.0; Win64; x64) AppleWebKit/537.36 (KHTML, like Gecko) Chrome/77.0.3865.90 Safari/537.36\",\n",
    "    'Content-Type': 'application/x-www-form-urlencoded'\n",
    "        }\n",
    "fd2 = {\n",
    "    'SID': sid,\n",
    "    'HISTORY':'<b>DOCUMENT TYPES:</b> (ARTICLE OR REVIEW) AND <b>PUBLICATION YEARS:</b> (2018 OR 2017)',\n",
    "    'queryString':'Total Citing Articles:  PUBLICATION NAME: (frontiers of structural and civil engineering)',\n",
    "    'action': 'search',\n",
    "    'product': 'WOS',\n",
    "    'PRODUCT': 'WOS',\n",
    "    'canRun':'yes',\n",
    "    'mode': 'Analyze',\n",
    "    'viewType':'summary',\n",
    "    'parentQid': qid+1,\n",
    "    'resultSetID':qid+1,\n",
    "    'ua_url':'https://apps.webofknowledge.com',\n",
    "    'set_base_url':'https://wcs.webofknowledge.com:443/RA',\n",
    "    'maxSave':100000,\n",
    "    'queryOption(summary_search_mode)':'TotalCitingArticles',\n",
    "    'count':171,\n",
    "    'recordString':171,\n",
    "    'field':'PY_PublicationYear_PublicationYear_en',\n",
    "    'recordsStr':'records',\n",
    "    'ViewRecordsStr':'View Records',\n",
    "    'visualization':'Bargraph',\n",
    "    'showNoofResults':25,\n",
    "    'maxRows':25,\n",
    "    'refineSelection':'PublicationYear_2019',\n",
    "        }"
   ]
  },
  {
   "cell_type": "code",
   "execution_count": 15,
   "metadata": {},
   "outputs": [],
   "source": [
    "s = requests.Session()\n",
    "url='https://apps.webofknowledge.com/InboundService.do'\n",
    "r4 = s.post(url, data=fd2, headers=headers2)\n",
    "r4.encoding = r4.apparent_encoding\n",
    "tree4 = etree.HTML(r4.text)\n",
    "soup4 = BeautifulSoup(r4.text, 'lxml')"
   ]
  },
  {
   "cell_type": "code",
   "execution_count": 16,
   "metadata": {},
   "outputs": [
    {
     "name": "stdout",
     "output_type": "stream",
     "text": [
      "109\n"
     ]
    }
   ],
   "source": [
    "paper_num = int(soup4.find('span', attrs={'id': 'footer_formatted_count'}).get_text().replace(',', ''))\n",
    "print(paper_num)"
   ]
  },
  {
   "cell_type": "code",
   "execution_count": 17,
   "metadata": {},
   "outputs": [
    {
     "name": "stdout",
     "output_type": "stream",
     "text": [
      "\n",
      "Developing Renewable Agro-Based Anti-Icers for Sustainable Winter Road Maintenance Operations\n",
      "\n",
      "Performance of FRP confined and unconfined engineered cementitious composite exposed to seawater\n",
      "\n",
      "Novel mechanical models of tensile strength and elastic property of FDM AM PLA materials: Experimental and theoretical analyses\n",
      "\n",
      "Silica Fume Effect on Engineering Properties of Superfine Cement-Grouted Sands\n",
      "\n",
      "Effects of fiber orientation and content on the static and fatigue behavior of SFRC by using CT-Scan technology\n",
      "\n",
      "Primary investigation on the relationship between microstructural characteristics and the mechanical performance of asphalt mixtures with different compaction degrees\n",
      "\n",
      "Effect of mineral fillers on the performance, rheological and dynamic viscosity measurements of asphalt mastic\n",
      "\n",
      "Behaviour of oil palm broom fibres (OPBF) reinforced concrete\n",
      "\n",
      "Smart Semi-active PID-ACO control strategy for tower vibration reduction in Wind Turbines with MR damper\n",
      "\n",
      "Mechanical properties of 16 different FDM-plastic types\n",
      "\n"
     ]
    }
   ],
   "source": [
    "k=''\n",
    "for i in tree4.xpath(\"//div[@class='search-results-content']/div/div/a//text()\"):\n",
    "    k+=i\n",
    "print(k)"
   ]
  },
  {
   "cell_type": "code",
   "execution_count": 18,
   "metadata": {},
   "outputs": [
    {
     "name": "stdout",
     "output_type": "stream",
     "text": [
      "https://apps.webofknowledge.comOutboundService.do?action=go&mode=raService&queryOption(summary_search_mode)=TotalCitingArticles&SID=5CEtCHrcyrUirKesVea&product=WOS&parentProduct=WOS&parentQid=4&colName=WOS&MARKEDLIST=0\n"
     ]
    }
   ],
   "source": [
    "# NowCit_href=soup4.find('div', class_='create-cite-report').find('a')['href']\n",
    "# wos_url='https://apps.webofknowledge.com'\n",
    "# NowCit_url=wos_url+NowCit_href\n",
    "# print(NowCit_url)\n",
    "# r5 = requests.get(Citing_articles_href, 3)\n",
    "# r5.encoding = r5.apparent_encoding\n",
    "# tree5 = etree.HTML(r5.text)\n",
    "# soup5 = BeautifulSoup(r5.text, 'lxml')"
   ]
  },
  {
   "cell_type": "code",
   "execution_count": 24,
   "metadata": {},
   "outputs": [],
   "source": [
    "rurl='https://apps.webofknowledge.com/summary.do?mode=Analyze&product=WOS&product=WOS&search_mode=Analyze&parentQid='+str(qid+1)+'&qid='+str(qid+2)+'&SID='+sid+'&SID='+sid\n",
    "\n",
    "headers3 = {\n",
    "    'host':'apps.webofknowledge.com',\n",
    "    'Origin': 'https://apps.webofknowledge.com',\n",
    "    'Referer': 'https://apps.webofknowledge.com/InboundService.do?action=search&exclude=',\n",
    "    'User-Agent': \"Mozilla/5.0 (Windows NT 10.0; Win64; x64) AppleWebKit/537.36 (KHTML, like Gecko) Chrome/77.0.3865.90 Safari/537.36\",\n",
    "    'Content-Type': 'application/x-www-form-urlencoded'\n",
    "        }\n",
    "fd3 = {\n",
    "    'viewType':'summary',\n",
    "    'product':'WOS',\n",
    "    'rurl':quote(rurl, 'utf-8'),\n",
    "    'mark_id':'WOS',\n",
    "    'colName':'WOS',\n",
    "    'search_mode':'Analyze',\n",
    "    'locale':'en_US',\n",
    "    'view_name':'WOS-Analyze-summary',\n",
    "    'sortBy':'LC.A;PY.D;AU.A.en;SO.A.en;VL.D;PG.A',\n",
    "    'mode':'OpenOutputService',\n",
    "    'qid':qid+2,\n",
    "    'SID':sid,\n",
    "    'format':'saveToFile',\n",
    "    'filters':'HIGHLY_CITED HOT_PAPER OPEN_ACCESS PMID USAGEIND AUTHORSIDENTIFIERS ACCESSION_NUM FUNDING SUBJECT_CATEGORY JCR_CATEGORY LANG IDS PAGEC SABBR CITREFC ISSN PUBINFO KEYWORDS CITTIMES ADDRS CONFERENCE_SPONSORS DOCTYPE ABSTRACT CONFERENCE_INFO SOURCE TITLE AUTHORS',\n",
    "    'mark_to':109,\n",
    "    'mark_from':1,\n",
    "    'queryNatural':'<b>PUBLICATION NAME:</b> (frontiers of structural and civil engineering)',\n",
    "    'count_new_items_marked':0,\n",
    "    'use_two_ets':'false',\n",
    "    'IncitesEntitled':'yes',\n",
    "    'value(record_select_type)':'range',\n",
    "    'markFrom':1,\n",
    "    'markTo':109,\n",
    "    'fields_selection':'HIGHLY_CITED HOT_PAPER OPEN_ACCESS PMID USAGEIND AUTHORSIDENTIFIERS ACCESSION_NUM FUNDING SUBJECT_CATEGORY JCR_CATEGORY LANG IDS PAGEC SABBR CITREFC ISSN PUBINFO KEYWORDS CITTIMES ADDRS CONFERENCE_SPONSORS DOCTYPE ABSTRACT CONFERENCE_INFO SOURCE TITLE AUTHORS',\n",
    "    'save_options':'tabWinUTF8',\n",
    "        }"
   ]
  },
  {
   "cell_type": "code",
   "execution_count": 26,
   "metadata": {},
   "outputs": [],
   "source": [
    "s = requests.Session()\n",
    "url='https://apps.webofknowledge.com/OutboundService.do'\n",
    "r5 = s.post(url, data=fd3, headers=headers3)\n",
    "with open('1.txt', 'wb') as f:\n",
    "    f.write(r5.content)"
   ]
  },
  {
   "cell_type": "code",
   "execution_count": null,
   "metadata": {},
   "outputs": [],
   "source": []
  }
 ],
 "metadata": {
  "kernelspec": {
   "display_name": "Python [conda root]",
   "language": "python",
   "name": "conda-root-py"
  },
  "language_info": {
   "codemirror_mode": {
    "name": "ipython",
    "version": 3
   },
   "file_extension": ".py",
   "mimetype": "text/x-python",
   "name": "python",
   "nbconvert_exporter": "python",
   "pygments_lexer": "ipython3",
   "version": "3.5.4"
  }
 },
 "nbformat": 4,
 "nbformat_minor": 2
}
