{
 "cells": [
  {
   "cell_type": "code",
   "execution_count": 20,
   "metadata": {},
   "outputs": [],
   "source": [
    "from pptx import Presentation\n",
    "prs = Presentation(\"E:\\\\Onedrive\\\\FSCE\\\\引文报告(2019年12月31日).pptx\")"
   ]
  },
  {
   "cell_type": "code",
   "execution_count": 21,
   "metadata": {},
   "outputs": [],
   "source": [
    "slide=prs.slides[12]"
   ]
  },
  {
   "cell_type": "code",
   "execution_count": 22,
   "metadata": {},
   "outputs": [
    {
     "name": "stdout",
     "output_type": "stream",
     "text": [
      "126篇施引文献中“国家\\地区”分布\n",
      "来自的中国（大陆）的文献引用最多，占比为33.3%；\n",
      "\n",
      "其次来自美国的引用文献为22篇，占比约为17.5%；\n",
      "\n",
      "伊朗紧随其后占比约为14.3%；\n",
      "\n",
      "接着是印度、澳大利亚、德国等国家。\n",
      "\n",
      "共有43个国家或地区。\n"
     ]
    }
   ],
   "source": [
    "for shape in slide.shapes:\n",
    "    if not shape.has_text_frame:\n",
    "        continue\n",
    "    for P in shape.text_frame.paragraphs:\n",
    "        print(P.text)"
   ]
  },
  {
   "cell_type": "code",
   "execution_count": null,
   "metadata": {},
   "outputs": [],
   "source": []
  }
 ],
 "metadata": {
  "kernelspec": {
   "display_name": "Python [default]",
   "language": "python",
   "name": "python3"
  },
  "language_info": {
   "codemirror_mode": {
    "name": "ipython",
    "version": 3
   },
   "file_extension": ".py",
   "mimetype": "text/x-python",
   "name": "python",
   "nbconvert_exporter": "python",
   "pygments_lexer": "ipython3",
   "version": "3.5.4"
  }
 },
 "nbformat": 4,
 "nbformat_minor": 4
}
