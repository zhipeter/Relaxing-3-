{
 "cells": [
  {
   "cell_type": "code",
   "execution_count": 1,
   "metadata": {},
   "outputs": [
    {
     "name": "stdout",
     "output_type": "stream",
     "text": [
      "sid:  5Fkwn8XR6HLRcGNqdI5\n"
     ]
    }
   ],
   "source": [
    "import re\n",
    "# from threading import Thread\n",
    "from multiprocessing import Process\n",
    "from multiprocessing import Manager\n",
    "import requests\n",
    "import time\n",
    "import xlrd\n",
    "from bs4 import BeautifulSoup\n",
    "from lxml import etree\n",
    "from urllib.parse import quote\n",
    "from urllib.parse import unquote\n",
    "\n",
    "Year=\"2017-2018\"\n",
    "root = 'http://www.webofknowledge.com/'\n",
    "s = requests.get(root)\n",
    "sid=re.findall(r'SID=\\w+&', s.url)[0].replace('SID=', '').replace('&', '')\n",
    "print('sid: ',sid)"
   ]
  },
  {
   "cell_type": "code",
   "execution_count": 2,
   "metadata": {},
   "outputs": [
    {
     "name": "stdout",
     "output_type": "stream",
     "text": [
      "2017-2018 文章总数： 100\n"
     ]
    }
   ],
   "source": [
    "headers = {\n",
    "            'Origin': 'https://apps.webofknowledge.com',\n",
    "            'Referer': 'https://apps.webofknowledge.com/WOS_GeneralSearch_input.do?product=WOS&search_mode=GeneralSearch',\n",
    "            'User-Agent': \"Mozilla/5.0 (Windows NT 10.0; Win64; x64) AppleWebKit/537.36 (KHTML, like Gecko) Chrome/77.0.3865.90 Safari/537.36\",\n",
    "            'Content-Type': 'application/x-www-form-urlencoded'\n",
    "        }\n",
    "fd = {\n",
    "            'fieldCount': 3,\n",
    "            'action': 'search',\n",
    "            'product': 'WOS',\n",
    "            'search_mode': 'GeneralSearch',\n",
    "            'SID': sid,\n",
    "            'max_field_count': 25,\n",
    "            'formUpdated': 'true',\n",
    "            'value(input1)': 'FRONTIERS OF STRUCTURAL AND CIVIL ENGINEERING',\n",
    "            'value(select1)': 'SO',\n",
    "            'value(bool_1_2)': 'AND',\n",
    "            'value(input2)': 'Article### Review',\n",
    "            'value(select2)': 'DT',\n",
    "            'value(bool_2_3)': 'AND',\n",
    "            'value(input3)': Year,\n",
    "            'value(select3)': 'PY',  \n",
    "            'value(hidInput1)': '',\n",
    "            'value(hidInput2)': '',\n",
    "            'limitStatus': 'collapsed',\n",
    "            'ss_lemmatization': 'On',\n",
    "            'ss_spellchecking': 'Suggest',\n",
    "            'SinceLastVisit_UTC': '',\n",
    "            'SinceLastVisit_DATE': '',\n",
    "            'period': 'Range Selection',\n",
    "            'range': 'ALL',\n",
    "            'startYear': '1975',\n",
    "            'endYear': '2019',\n",
    "            'update_back2search_link_param': 'yes',\n",
    "            'ssStatus': 'display:none',\n",
    "            'ss_showsuggestions': 'ON',\n",
    "            'ss_query_language': 'auto',\n",
    "            'ss_numDefaultGeneralSearchFields': 1,\n",
    "            'rs_sort_by': 'PY.D;LD.D;SO.A;VL.D;PG.A;AU.A'\n",
    "        }\n",
    "\n",
    "root_url = 'https://apps.webofknowledge.com/WOS_GeneralSearch.do'\n",
    "s = requests.Session()\n",
    "r = s.post(root_url, data=fd, headers=headers)\n",
    "r.encoding = r.apparent_encoding\n",
    "tree = etree.HTML(r.text)\n",
    "soup = BeautifulSoup(r.text, 'lxml')\n",
    "\n",
    "paper_num = int(soup.find('span', attrs={'id': 'footer_formatted_count'}).get_text().replace(',', ''))\n",
    "print(Year+' 文章总数：', paper_num)"
   ]
  },
  {
   "cell_type": "code",
   "execution_count": 3,
   "metadata": {},
   "outputs": [
    {
     "name": "stdout",
     "output_type": "stream",
     "text": [
      "Qid= 1\n",
      "100 6 1.90 190 186 176 174\n",
      "['2016', '2017', '2018', '2019', '2020'] \n",
      " ['0', '12', '56', '122', '0', '190', '63.33']\n"
     ]
    }
   ],
   "source": [
    "url=soup.find('a', class_='snowplow-citation-report citation-report-summary-link')['href']\n",
    "CR_url='https://apps.webofknowledge.com'+url\n",
    "cr_r = requests.get(CR_url, 3)\n",
    "cr_r_qid=re.findall(r'qid=\\d+&', cr_r.url)[0].replace('qid=', '').replace('&', '')\n",
    "print('Qid=', cr_r_qid)\n",
    "cr_r.encoding = cr_r.apparent_encoding\n",
    "tree2 = etree.HTML(cr_r.text)\n",
    "soup2 = BeautifulSoup(cr_r.text, 'lxml')\n",
    "\n",
    "table=soup2.find_all('td', class_='quarter-width')\n",
    "Total_Publications=table[0].find('em', attrs={'class': 'commafy last'}).get_text().replace(',', '')\n",
    "h_index = table[1].find('em', attrs={'id': 'H_INDEX'}).get_text().replace(',', '')\n",
    "Average_citations_per_item=table[1].find('em', attrs={'class': 'minor commafy last'}).get_text().replace(',', '')\n",
    "Sum_of_Times_Cited=table[2].find('em', attrs={'class': 'commafy'}).get_text().replace(',', '')\n",
    "without_self_citations=table[2].find('em', attrs={'class': 'minor commafy last'}).get_text().replace(',', '')\n",
    "Citing_articles=table[3].find('em', attrs={'class': 'commafy'}).get_text().replace(',', '')\n",
    "without_self_citations2=table[3].find('em', attrs={'class': 'minor commafy last'}).get_text().replace(',', '')\n",
    "print(Total_Publications, h_index, Average_citations_per_item, Sum_of_Times_Cited, without_self_citations, Citing_articles, without_self_citations2)\n",
    "\n",
    "CitReportHead=soup2.find('div', class_='CitReportTotalRow1')\n",
    "CitReportTable=soup2.find('div', class_='CitReportTotalRow2')\n",
    "CitYear=[]\n",
    "CitYearValue=[]\n",
    "for i in CitReportHead.find_all('div', class_='tcPerYear'):\n",
    "    CitYear.append(i.get_text().strip())\n",
    "for i in CitReportTable.find_all('div', class_='totalRow'):\n",
    "    CitYearValue.append(i.get_text().strip())\n",
    "print(CitYear, '\\n',CitYearValue)"
   ]
  },
  {
   "cell_type": "code",
   "execution_count": 4,
   "metadata": {},
   "outputs": [
    {
     "name": "stdout",
     "output_type": "stream",
     "text": [
      "Qid= 2\n"
     ]
    }
   ],
   "source": [
    "Citing_articles_href=soup2.find('a', class_='margin-left-20 snowplow-cited-rep-analyze-results-citing-articles')['href']\n",
    "Citing_articles_href='https://apps.webofknowledge.com'+Citing_articles_href\n",
    "qid = re.findall(r'qid=\\d+&', Citing_articles_href)[0].replace('qid=', '').replace('&', '')\n",
    "qid=int(qid)\n",
    "print('Qid=', qid)\n",
    "\n",
    "r3 = requests.get(Citing_articles_href, 3)"
   ]
  },
  {
   "cell_type": "code",
   "execution_count": 5,
   "metadata": {},
   "outputs": [
    {
     "name": "stdout",
     "output_type": "stream",
     "text": [
      "2019年施引文献数量:  113\n"
     ]
    }
   ],
   "source": [
    "headers2 = {\n",
    "    'Host':'apps.webofknowledge.com',\n",
    "    'Origin': 'https://wcs.webofknowledge.com',\n",
    "    'Referer': 'https://wcs.webofknowledge.com/RA/analyze.do?product=WOS&SID='+sid+'&field=PY_PublicationYear_PublicationYear_en&yearSort=true',\n",
    "    'User-Agent': \"Mozilla/5.0 (Windows NT 10.0; Win64; x64) AppleWebKit/537.36 (KHTML, like Gecko) Chrome/77.0.3865.90 Safari/537.36\",\n",
    "    'Content-Type': 'application/x-www-form-urlencoded'\n",
    "        }\n",
    "fd2 = {\n",
    "    'SID': sid,\n",
    "    'HISTORY':'<b>DOCUMENT TYPES:</b> (ARTICLE OR REVIEW) AND <b>PUBLICATION YEARS:</b> (2018 OR 2017)',\n",
    "    'queryString':'Total Citing Articles:  PUBLICATION NAME: (frontiers of structural and civil engineering)',\n",
    "    'action': 'search',\n",
    "    'product': 'WOS',\n",
    "    'PRODUCT': 'WOS',\n",
    "    'canRun':'yes',\n",
    "    'mode': 'Analyze',\n",
    "    'viewType':'summary',\n",
    "    'parentQid': qid+1,\n",
    "    'resultSetID':qid+1,\n",
    "    'ua_url':'https://apps.webofknowledge.com',\n",
    "    'set_base_url':'https://wcs.webofknowledge.com:443/RA',\n",
    "    'maxSave':100000,\n",
    "    'queryOption(summary_search_mode)':'TotalCitingArticles',\n",
    "    'count':int(Citing_articles),\n",
    "    'recordString':int(Citing_articles),\n",
    "    'field':'PY_PublicationYear_PublicationYear_en',\n",
    "    'recordsStr':'records',\n",
    "    'ViewRecordsStr':'View Records',\n",
    "    'visualization':'Bargraph',\n",
    "    'showNoofResults':25,\n",
    "    'maxRows':25,\n",
    "    'refineSelection':'PublicationYear_2019',\n",
    "        }\n",
    "\n",
    "s = requests.Session()\n",
    "url='https://apps.webofknowledge.com/InboundService.do'\n",
    "r4 = s.post(url, data=fd2, headers=headers2)\n",
    "r4.encoding = r4.apparent_encoding\n",
    "tree4 = etree.HTML(r4.text)\n",
    "soup4 = BeautifulSoup(r4.text, 'lxml')\n",
    "\n",
    "paper_num = int(soup4.find('span', attrs={'id': 'footer_formatted_count'}).get_text().replace(',', ''))\n",
    "print('2019年施引文献数量: ', paper_num)"
   ]
  },
  {
   "cell_type": "code",
   "execution_count": 6,
   "metadata": {},
   "outputs": [
    {
     "name": "stdout",
     "output_type": "stream",
     "text": [
      "http://ets.webofknowledge.com/ETS/ets.do?mark_from=1&product=UA&colName=WOS&displayUsageInfo=true&parentQid=4&rurl=https%253A%252F%252Fapps.webofknowledge.com%252Fsummary.do%253Fmode%253DAnalyze%2526product%253DWOS%2526product%253DWOS%2526search_mode%253DAnalyze%2526parentQid%253D3%2526qid%253D4%2526SID%253D5Fkwn8XR6HLRcGNqdI5%2526SID%253D5Fkwn8XR6HLRcGNqdI5&mark_to=113&filters=HIGHLY_CITED%20HOT_PAPER%20OPEN_ACCESS%20PMID%20USAGEIND%20AUTHORSIDENTIFIERS%20ACCESSION_NUM%20FUNDING%20SUBJECT_CATEGORY%20JCR_CATEGORY%20LANG%20IDS%20PAGEC%20SABBR%20CITREFC%20ISSN%20PUBINFO%20KEYWORDS%20CITTIMES%20ADDRS%20CONFERENCE_SPONSORS%20DOCTYPE%20ABSTRACT%20CONFERENCE_INFO%20SOURCE%20TITLE%20AUTHORS%20%20&qid=5&SID=5Fkwn8XR6HLRcGNqdI5&totalMarked=113&action=saveToFile&sortBy=LC.A;PY.D;AU.A.en;SO.A.en;VL.D;PG.A&logEventQid=4&fileOpt=tabWinUTF8&UserIDForSaveToRID=null\n"
     ]
    }
   ],
   "source": [
    "rurl='https://apps.webofknowledge.com/summary.do?mode=Analyze&product=WOS&product=WOS&search_mode=Analyze&parentQid='+str(qid+1)+'&qid='+str(qid+2)+'&SID='+sid+'&SID='+sid\n",
    "\n",
    "headers3 = {\n",
    "    'Host':'apps.webofknowledge.com',\n",
    "    'Origin': 'http://apps.webofknowledge.com',\n",
    "    'Referer': 'http://apps.webofknowledge.com/InboundService.do?action=search&exclude=',\n",
    "    'User-Agent': \"Mozilla/5.0 (Windows NT 10.0; Win64; x64) AppleWebKit/537.36 (KHTML, like Gecko) Chrome/77.0.3865.90 Safari/537.36\",\n",
    "    'Content-Type': 'application/x-www-form-urlencoded'\n",
    "        }\n",
    "fd3 = {\n",
    "    'viewType':'summary',\n",
    "    'product':'WOS',\n",
    "    'rurl':quote(rurl, 'utf-8'),\n",
    "    'mark_id':'WOS',\n",
    "    'colName':'WOS',\n",
    "    'search_mode':'Analyze',\n",
    "    'locale':'en_US',\n",
    "    'view_name':'WOS-Analyze-summary',\n",
    "    'sortBy':'LC.A;PY.D;AU.A.en;SO.A.en;VL.D;PG.A',\n",
    "    'mode':'OpenOutputService',\n",
    "    'qid':qid+2,\n",
    "    'SID':sid,\n",
    "    'format':'saveToFile',\n",
    "    'filters':'HIGHLY_CITED HOT_PAPER OPEN_ACCESS PMID USAGEIND AUTHORSIDENTIFIERS ACCESSION_NUM FUNDING SUBJECT_CATEGORY JCR_CATEGORY LANG IDS PAGEC SABBR CITREFC ISSN PUBINFO KEYWORDS CITTIMES ADDRS CONFERENCE_SPONSORS DOCTYPE ABSTRACT CONFERENCE_INFO SOURCE TITLE AUTHORS',\n",
    "    'mark_to':paper_num,\n",
    "    'mark_from':1,\n",
    "    'queryNatural':'<b>PUBLICATION NAME:</b> (frontiers of structural and civil engineering)',\n",
    "    'count_new_items_marked':0,\n",
    "    'use_two_ets':'false',\n",
    "    'IncitesEntitled':'yes',\n",
    "    'value(record_select_type)':'range',\n",
    "    'markFrom':1,\n",
    "    'markTo':paper_num,\n",
    "    'fields_selection':'HIGHLY_CITED HOT_PAPER OPEN_ACCESS PMID USAGEIND AUTHORSIDENTIFIERS ACCESSION_NUM FUNDING SUBJECT_CATEGORY JCR_CATEGORY LANG IDS PAGEC SABBR CITREFC ISSN PUBINFO KEYWORDS CITTIMES ADDRS CONFERENCE_SPONSORS DOCTYPE ABSTRACT CONFERENCE_INFO SOURCE TITLE AUTHORS',\n",
    "    'save_options':'tabWinUTF8',\n",
    "        }\n",
    "\n",
    "s = requests.Session()\n",
    "url='http://apps.webofknowledge.com/OutboundService.do?action=go&&'\n",
    "r5 = s.post(url, data=fd3, headers=headers3,allow_redirects=False)\n",
    "Location_url=r5.headers['Location']\n",
    "filters=re.split(r'(&filters=)(.*)(&qid=)', Location_url)\n",
    "filters[2]=quote(filters[2]+'  ')\n",
    "Download_url=''.join(filters)\n",
    "print(Download_url)"
   ]
  },
  {
   "cell_type": "code",
   "execution_count": 10,
   "metadata": {},
   "outputs": [],
   "source": [
    "headers4 = {\n",
    "    'User-Agent': \"Mozilla/5.0 (Windows NT 10.0; Win64; x64) AppleWebKit/537.36 (KHTML, like Gecko) Chrome/77.0.3865.90 Safari/537.36\",\n",
    "        }\n",
    "txt=requests.get(Download_url,3,headers=headers4)\n",
    "with open(Year+'CitationArticles.csv', 'wb') as f:\n",
    "    f.write(txt.content)"
   ]
  },
  {
   "cell_type": "code",
   "execution_count": 25,
   "metadata": {},
   "outputs": [
    {
     "name": "stdout",
     "output_type": "stream",
     "text": [
      "https://apps.webofknowledge.com/OutboundService.do?action=go&mode=raService&queryOption(summary_search_mode)=TotalCitingArticles&SID=5Fkwn8XR6HLRcGNqdI5&product=WOS&parentProduct=WOS&parentQid=4&colName=WOS&MARKEDLIST=0\n",
      "Qid= 4\n"
     ]
    }
   ],
   "source": [
    "url=soup4.find('a', class_='snowplow-analyze-results analyze-results-summary-link')['href']\n",
    "CR_url='https://apps.webofknowledge.com/'+url\n",
    "print(CR_url)\n",
    "cr_r = requests.get(CR_url)\n",
    "cr_r_qid=re.findall(r'parentQid=\\d+&', cr_r.url)[0].replace('parentQid=', '').replace('&', '')\n",
    "print('Qid=', cr_r_qid)"
   ]
  },
  {
   "cell_type": "code",
   "execution_count": 33,
   "metadata": {},
   "outputs": [],
   "source": [
    "# 国家或地区\n",
    "\n",
    "headers_Country = {\n",
    "    'Host':'wcs.webofknowledge.com',\n",
    "    'Origin': 'http://wcs.webofknowledge.com',\n",
    "    'Referer': 'http://wcs.webofknowledge.com/RA/analyze.do?product=WOS&SID='+sid+'&field=CU_CountryTerritory_CountryTerritory_en&yearSort=false',\n",
    "    'User-Agent': \"Mozilla/5.0 (Windows NT 10.0; Win64; x64) AppleWebKit/537.36 (KHTML, like Gecko) Chrome/77.0.3865.90 Safari/537.36\",\n",
    "    'Content-Type': 'application/x-www-form-urlencoded'\n",
    "        }\n",
    "fd_Country = {\n",
    "    'APP_RETURN_URL':'',\n",
    "    'SID':sid,\n",
    "    'product': 'WOS',\n",
    "    'PRODUCT': 'WOS',\n",
    "    'canRun':'yes',\n",
    "    'mode':'Analyze',\n",
    "    'viewType':'summary',\n",
    "    'parentQid':qid+2,\n",
    "    'resultSetID':qid+2,\n",
    "    'ua_url':'http://apps.webofknowledge.com',\n",
    "    'self_base_url': 'http://wcs.webofknowledge.com/RA',\n",
    "    'maxSave': 100000,\n",
    "    'HISTORY': '<b>PUBLICATION YEARS:</b> (2019)',\n",
    "    'queryOption(summary_search_mode)': 'TotalCitingArticles',\n",
    "    'count':paper_num,\n",
    "    'recordString': paper_num,\n",
    "    'field': 'CU_CountryTerritory_CountryTerritory_en',\n",
    "    'queryString': 'Total Citing Articles:  <b>PUBLICATION NAME:</b> (frontiers of structural and civil engineering) <i>AND</i> <b>PUBLICATION YEARS:</b> (2017-2018) <i>AND</i> <b>DOCUMENT TYPES:</b> (Article OR  Review)',\n",
    "    'recordsStr':'records',\n",
    "    'ViewRecordsStr':'View Records',\n",
    "    'visualization': 'Treemap',\n",
    "    'showNoofResults': 10,\n",
    "    'showVisualization': 'true',\n",
    "    'sortTypePY': 'Field',\n",
    "    'yearSort': 'false',\n",
    "    'initialSortType': 'Value',\n",
    "    'sortType': 'Value',\n",
    "    'maxRows':25,\n",
    "    'threshold': 1,\n",
    "    'save_what': 'all_data',\n",
    "        }\n",
    "\n",
    "\n",
    "s = requests.Session()\n",
    "url='http://wcs.webofknowledge.com/RA/save.do'\n",
    "r_Country = s.post(url, data=data, headers=headers_Country)\n",
    "with open('Country.csv', 'wb') as f:\n",
    "    f.write(r_Country.content)"
   ]
  },
  {
   "cell_type": "code",
   "execution_count": 32,
   "metadata": {},
   "outputs": [],
   "source": [
    "data='APP_RETURN_URL=&SID=5Fkwn8XR6HLRcGNqdI5&product=WOS&PRODUCT=WOS&canRun=yes&mode=Analyze&viewType=summary&parentQid=4&db_id=&resultSetID=4&ua_url=http%3A%2F%2Fapps.webofknowledge.com&self_base_url=http%3A%2F%2Fwcs.webofknowledge.com%2FRA&maxSave=100000&HISTORY=%3Cb%3EPUBLICATION+YEARS%3A%3C%2Fb%3E+%282019%29&queryOption%28summary_search_mode%29=TotalCitingArticles&queryOption%28summary_search_mode%29=TotalCitingArticles&DaisyAuthorsSetsCount=&count=112&DaisyAuthorsSetsQId=&recordString=112&queryString=Total+Citing+Articles%3A++%3Cb%3EPUBLICATION+NAME%3A%3C%2Fb%3E+%28frontiers+of+structural+and+civil+engineering%29+%3Ci%3EAND%3C%2Fi%3E+%3Cb%3EYEAR+PUBLISHED%3A%3C%2Fb%3E+%282017-2018%29+%3Ci%3EAND%3C%2Fi%3E+%3Cb%3EDOCUMENT+TYPES%3A%3C%2Fb%3E+%28Article+OR++Review%29&ua_url=http%3A%2F%2Fapps.webofknowledge.com&DaisyAuthorsSetsCount=&DaisyAuthorsSetsQId=&field=CU_CountryTerritory_CountryTerritory_en&recordsStr=records&ViewRecordsStr=View+Records&noRecordsMsg=There+are+no+records+to+display+the+visualization&visualization=Treemap&showNoofResults=10&showVisualization=true&sortTypePY=Field&yearSort=false&initialSortType=Value&sortType=Value&maxRows=25&threshold=1&save_what=all_data'"
   ]
  },
  {
   "cell_type": "code",
   "execution_count": null,
   "metadata": {},
   "outputs": [],
   "source": []
  }
 ],
 "metadata": {
  "kernelspec": {
   "display_name": "Python [default]",
   "language": "python",
   "name": "python3"
  },
  "language_info": {
   "codemirror_mode": {
    "name": "ipython",
    "version": 3
   },
   "file_extension": ".py",
   "mimetype": "text/x-python",
   "name": "python",
   "nbconvert_exporter": "python",
   "pygments_lexer": "ipython3",
   "version": "3.5.4"
  }
 },
 "nbformat": 4,
 "nbformat_minor": 4
}
